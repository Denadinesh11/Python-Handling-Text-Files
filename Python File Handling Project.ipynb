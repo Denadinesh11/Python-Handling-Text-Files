{
 "cells": [
  {
   "cell_type": "code",
   "execution_count": 1,
   "id": "025a9855",
   "metadata": {},
   "outputs": [
    {
     "name": "stdout",
     "output_type": "stream",
     "text": [
      "['ARYA', 'BRAN', 'CASSEL', 'CATELYN', 'CERSEI', 'GARED', 'JAIME', 'JON', 'NED', 'ROBB', 'ROBERT', 'ROYCE', 'SANSA', 'SEPTA MORDANE', 'THEON', 'WAYMAR ROYCE', 'WILL']\n"
     ]
    }
   ],
   "source": [
    "# This code block fetches the unique names of speakers from the text file\n",
    "import re\n",
    "unique_character=[]\n",
    "with open(\"C:/Users/HP/Downloads/Python for DS- Project/conv.txt\",\"r\") as file:\n",
    "    lines=file.readlines()\n",
    "    for line in lines:\n",
    "        split = line.split(\":\")\n",
    "        character = split[0]\n",
    "        if character not in unique_character and character !=\"\\n\":\n",
    "            unique_character.append(character)\n",
    "        else:\n",
    "            pass\n",
    "unique_character.sort()\n",
    "print(unique_character)              \n"
   ]
  },
  {
   "cell_type": "code",
   "execution_count": 2,
   "id": "f33b8f95",
   "metadata": {},
   "outputs": [
    {
     "name": "stdout",
     "output_type": "stream",
     "text": [
      "The total number of unique dialogue speakers in character file is:16\n",
      "Those characters are in the list given below:\n",
      "['ARYA', 'BRAN', 'CASSEL', 'CATELYN', 'CERSEI', 'GARED', 'JAIME', 'JON', 'NED', 'ROBB', 'ROBERT', 'SANSA', 'SEPTA MORDANE', 'THEON', 'WAYMAR ROYCE', 'WILL']\n"
     ]
    }
   ],
   "source": [
    "# This code block removes the speaker \"Royce\" (Since Royce and Waymar are same)\n",
    "unique_characters=unique_character.copy()\n",
    "def remove_character():\n",
    "    for char in unique_character:\n",
    "        for chars in unique_characters:\n",
    "            if char != chars and char in chars:\n",
    "                unique_characters.remove(char)\n",
    "                break\n",
    "                \n",
    "                \n",
    "              \n",
    "remove_character()           \n",
    "unique_characters.sort()\n",
    "file.close()\n",
    "print(\"The total number of unique dialogue speakers in character file is:{}{}Those characters are in the list given below:{}{}\".format(len(unique_characters),\"\\n\",\"\\n\",unique_characters))\n"
   ]
  },
  {
   "cell_type": "code",
   "execution_count": 3,
   "id": "cfe14874",
   "metadata": {
    "scrolled": false
   },
   "outputs": [
    {
     "name": "stdout",
     "output_type": "stream",
     "text": [
      "______________________________________\n",
      "ARYA\n",
      "['ARYA Wheres the Imp\\n', 'ARYA Arya\\n', 'ARYA Thats Jaime Lannister The queens twin brother\\n', 'ARYA Wheres the Imp\\n']\n",
      "______________________________________\n",
      "BRAN\n",
      "['BRAN Jon said he was a deserter\\n', 'BRAN Our way is the old way\\n', 'BRAN Is it true he saw the White Walkers\\n', 'BRAN So he was lying\\n', 'BRAN Where will they go Their mothers dead\\n', 'BRAN NO\\n', 'BRAN Please father\\n', 'BRAN What about you\\n', 'BRAN I saw the king Hes got hundreds of people\\n', 'BRAN But hes coming right now Down our road\\n']\n",
      "______________________________________\n",
      "CASSEL\n",
      "['CASSEL Lord Stark My lady A guardsman just rode in from the hills Theyve captured a deserter from the Nights Watch\\n', 'CASSEL The law is law my lady\\n', 'CASSEL They dont belong down here\\n']\n",
      "______________________________________\n",
      "CATELYN\n",
      "['CATELYN Do you have to\\n', 'CATELYN Ned Ten is too young to see such things\\n', 'CATELYN All these years and I still feel like an outsider when I come here\\n', 'CATELYN I wonder if the old gods agree\\n', 'CATELYN I am so sorry my love\\n', 'CATELYN Gods but they grow fast\\n', 'CATELYN How many times have I told you No climbing\\n', 'CATELYN I want you to promise me No more climbing\\n', 'CATELYN Your Grace\\n', 'CATELYN My queen\\n']\n",
      "______________________________________\n",
      "CERSEI\n",
      "['CERSEI What if Jon Arryn told someone\\n', 'CERSEI My husband\\n', 'CERSEI You should be the Hand of the king\\n', 'CERSEI Weve been riding for a month my love Surely the dead can wait\\n', 'CERSEI Where is our brother Go find the little beast\\n']\n",
      "______________________________________\n",
      "GARED\n",
      "['GARED We should head back to the wall\\n', 'GARED Our orders were to track the wildlings We tracked them They wont trouble us no more\\n', 'GARED See where they went\\n']\n",
      "______________________________________\n",
      "JAIME\n",
      "['JAIME But who would he tell\\n', 'JAIME If he told the king both our heads would be skewered on the city gates by now Whatever Jon Arryn knew or didnt know it died with him And Robert will choose a new Hand of the king someone to do his job while hes off fucking boars and hunting whores Or is it the other way around And life will go on\\n', 'JAIME Thats an honor I can do without Their days are too long their lives are too short\\n']\n",
      "______________________________________\n",
      "JON\n",
      "['JON Go on Fathers watching\\n', 'JON And your mother\\n', 'JON Dont think too much Bran\\n', 'JON Father will know if you do\\n', 'JON You did well\\n', 'JON What is it\\n', 'JON Now there are five\\n', 'JON You want to hold it\\n', 'JON Lord Stark There are five pups One for each of the Stark children The direwolf is the sigil of your House They were meant to have them\\n', 'JON Im not a Stark Get on\\n']\n",
      "______________________________________\n",
      "NED\n",
      "['NED And which one of you was a marksman at ten Keep practicing Bran Go on\\n', 'NED Get the lads to saddle their horses\\n', 'NED He swore an oath Cat\\n', 'NED Tell Bran hes coming too\\n', 'NED He wont be a boy forever And winter is coming\\n', 'NED King of the Andals and the First Men \\n', 'NED Lord of the Seven Kingdoms and protector of the realm I Eddard of the House Stark Lord of Winterfell and Warden of the North sentence you to die\\n', 'NED You understand why I did it\\n', 'NED But do you understand why I had to kill him\\n', 'NED The man who passes the sentence should swing the sword\\n', 'NED The White Walkers have been gone for thousands of years\\n', 'NED A madman sees what he sees\\n', 'NED There are no mountain lions in these woods\\n', 'NED Its a direwolf\\n', 'NED Tough old beast\\n', 'NED Better a quick death They wont last without their mother\\n', 'NED Im sorry Bran\\n', 'NED You will train them yourselves You will feed them yourselves And if they die you will bury them yourselves\\n', 'NED You have five northern children Youre not an outsider\\n', 'NED Its your gods with all the rules\\n', 'NED Tell me\\n', 'NED Your Grace\\n', 'NED Guarding the North for you Your Grace Winterfell is yours\\n', 'NED My queen\\n', 'NED Tell me about Jon Arryn\\n', 'NED We both did\\n', 'NED Aye\\n']\n",
      "______________________________________\n",
      "ROBB\n",
      "['ROBB Relax your bow arm\\n', 'ROBB Lad go run back and get the rest\\n', 'ROBB There are no direwolves south of the Wall\\n', 'ROBB Put away your blade\\n', 'ROBB What is it\\n', 'ROBB I hear the prince is a right royal prick\\n', 'ROBB Go on Tommy shave him good Hes never met a girl he likes better than his own hair\\n']\n",
      "______________________________________\n",
      "ROBERT\n",
      "['ROBERT Youve got fat\\n', 'ROBERT Cat\\n', 'ROBERT Nine years Why havent I seen you Where the hell have you been\\n', 'ROBERT Who have we here You must be Robb\\n', 'ROBERT Ooh Show us your muscles Youll be a soldier\\n', 'ROBERT Take me to your crypt I want to pay my respects\\n', 'ROBERT Ned\\n', 'ROBERT One minute he was fine and then  Burned right through him whatever it was I loved that man\\n', 'ROBERT He never had to teach you much but me  You remember me at 16 All I wanted to do was crack skulls and fuck girls He showed me what was what\\n']\n",
      "______________________________________\n",
      "ROYCE\n",
      "['WAYMAR ROYCE How close did you get\\n', 'ROYCE Do the dead frighten you\\n', 'ROYCE You dont think hell ask us how they died Get back on your horse\\n', 'ROYCE Its a good thing were not children You want to run away south run away Of course they will behead you as a deserter  If I dont catch you first Get back on your horse I wont say it again\\n', 'ROYCE Your dead men seem to have moved camp\\n', 'ROYCE What is it\\n']\n",
      "______________________________________\n",
      "SANSA\n",
      "['SANSA Thank you\\n', 'SANSA Will you shut up\\n', 'SANSA Would you please shut up\\n']\n",
      "______________________________________\n",
      "SEPTA MORDANE\n",
      "['SEPTA MORDANE Fine work as always Well done\\n', 'SEPTA MORDANE I love the detail that youve managed to get in this corners\\n']\n",
      "______________________________________\n",
      "THEON\n",
      "['THEON Mountain lion\\n', 'THEON Its a freak\\n', 'THEON Right Give it here\\n', 'THEON I take orders from your father not you\\n', 'THEON Think of all those southern girls he gets to stab with his right royal prick\\n']\n",
      "______________________________________\n",
      "WAYMAR ROYCE\n",
      "['WAYMAR ROYCE How close did you get\\n']\n",
      "______________________________________\n",
      "WILL\n",
      "['WILL Ive never seen wildlings do a thing like this Ive never seen a thing like this not ever in my life\\n', 'WILL Close as any man would\\n', 'WILL Whatever did it to them could do it to us They even killed the children\\n', 'WILL They were here\\n']\n",
      "_ _ _ _ _ _ _ _ _ _ _ _ _ _ _ _ _ _\n",
      "{'ARYA': ['ARYA Wheres the Imp\\n', 'ARYA Arya\\n', 'ARYA Thats Jaime Lannister The queens twin brother\\n', 'ARYA Wheres the Imp\\n'], 'BRAN': ['BRAN Jon said he was a deserter\\n', 'BRAN Our way is the old way\\n', 'BRAN Is it true he saw the White Walkers\\n', 'BRAN So he was lying\\n', 'BRAN Where will they go Their mothers dead\\n', 'BRAN NO\\n', 'BRAN Please father\\n', 'BRAN What about you\\n', 'BRAN I saw the king Hes got hundreds of people\\n', 'BRAN But hes coming right now Down our road\\n'], 'CASSEL': ['CASSEL Lord Stark My lady A guardsman just rode in from the hills Theyve captured a deserter from the Nights Watch\\n', 'CASSEL The law is law my lady\\n', 'CASSEL They dont belong down here\\n'], 'CATELYN': ['CATELYN Do you have to\\n', 'CATELYN Ned Ten is too young to see such things\\n', 'CATELYN All these years and I still feel like an outsider when I come here\\n', 'CATELYN I wonder if the old gods agree\\n', 'CATELYN I am so sorry my love\\n', 'CATELYN Gods but they grow fast\\n', 'CATELYN How many times have I told you No climbing\\n', 'CATELYN I want you to promise me No more climbing\\n', 'CATELYN Your Grace\\n', 'CATELYN My queen\\n'], 'CERSEI': ['CERSEI What if Jon Arryn told someone\\n', 'CERSEI My husband\\n', 'CERSEI You should be the Hand of the king\\n', 'CERSEI Weve been riding for a month my love Surely the dead can wait\\n', 'CERSEI Where is our brother Go find the little beast\\n'], 'GARED': ['GARED We should head back to the wall\\n', 'GARED Our orders were to track the wildlings We tracked them They wont trouble us no more\\n', 'GARED See where they went\\n'], 'JAIME': ['JAIME But who would he tell\\n', 'JAIME If he told the king both our heads would be skewered on the city gates by now Whatever Jon Arryn knew or didnt know it died with him And Robert will choose a new Hand of the king someone to do his job while hes off fucking boars and hunting whores Or is it the other way around And life will go on\\n', 'JAIME Thats an honor I can do without Their days are too long their lives are too short\\n'], 'JON': ['JON Go on Fathers watching\\n', 'JON And your mother\\n', 'JON Dont think too much Bran\\n', 'JON Father will know if you do\\n', 'JON You did well\\n', 'JON What is it\\n', 'JON Now there are five\\n', 'JON You want to hold it\\n', 'JON Lord Stark There are five pups One for each of the Stark children The direwolf is the sigil of your House They were meant to have them\\n', 'JON Im not a Stark Get on\\n'], 'NED': ['NED And which one of you was a marksman at ten Keep practicing Bran Go on\\n', 'NED Get the lads to saddle their horses\\n', 'NED He swore an oath Cat\\n', 'NED Tell Bran hes coming too\\n', 'NED He wont be a boy forever And winter is coming\\n', 'NED King of the Andals and the First Men \\n', 'NED Lord of the Seven Kingdoms and protector of the realm I Eddard of the House Stark Lord of Winterfell and Warden of the North sentence you to die\\n', 'NED You understand why I did it\\n', 'NED But do you understand why I had to kill him\\n', 'NED The man who passes the sentence should swing the sword\\n', 'NED The White Walkers have been gone for thousands of years\\n', 'NED A madman sees what he sees\\n', 'NED There are no mountain lions in these woods\\n', 'NED Its a direwolf\\n', 'NED Tough old beast\\n', 'NED Better a quick death They wont last without their mother\\n', 'NED Im sorry Bran\\n', 'NED You will train them yourselves You will feed them yourselves And if they die you will bury them yourselves\\n', 'NED You have five northern children Youre not an outsider\\n', 'NED Its your gods with all the rules\\n', 'NED Tell me\\n', 'NED Your Grace\\n', 'NED Guarding the North for you Your Grace Winterfell is yours\\n', 'NED My queen\\n', 'NED Tell me about Jon Arryn\\n', 'NED We both did\\n', 'NED Aye\\n'], 'ROBB': ['ROBB Relax your bow arm\\n', 'ROBB Lad go run back and get the rest\\n', 'ROBB There are no direwolves south of the Wall\\n', 'ROBB Put away your blade\\n', 'ROBB What is it\\n', 'ROBB I hear the prince is a right royal prick\\n', 'ROBB Go on Tommy shave him good Hes never met a girl he likes better than his own hair\\n'], 'ROBERT': ['ROBERT Youve got fat\\n', 'ROBERT Cat\\n', 'ROBERT Nine years Why havent I seen you Where the hell have you been\\n', 'ROBERT Who have we here You must be Robb\\n', 'ROBERT Ooh Show us your muscles Youll be a soldier\\n', 'ROBERT Take me to your crypt I want to pay my respects\\n', 'ROBERT Ned\\n', 'ROBERT One minute he was fine and then  Burned right through him whatever it was I loved that man\\n', 'ROBERT He never had to teach you much but me  You remember me at 16 All I wanted to do was crack skulls and fuck girls He showed me what was what\\n'], 'ROYCE': ['WAYMAR ROYCE How close did you get\\n', 'ROYCE Do the dead frighten you\\n', 'ROYCE You dont think hell ask us how they died Get back on your horse\\n', 'ROYCE Its a good thing were not children You want to run away south run away Of course they will behead you as a deserter  If I dont catch you first Get back on your horse I wont say it again\\n', 'ROYCE Your dead men seem to have moved camp\\n', 'ROYCE What is it\\n'], 'SANSA': ['SANSA Thank you\\n', 'SANSA Will you shut up\\n', 'SANSA Would you please shut up\\n'], 'SEPTA MORDANE': ['SEPTA MORDANE Fine work as always Well done\\n', 'SEPTA MORDANE I love the detail that youve managed to get in this corners\\n'], 'THEON': ['THEON Mountain lion\\n', 'THEON Its a freak\\n', 'THEON Right Give it here\\n', 'THEON I take orders from your father not you\\n', 'THEON Think of all those southern girls he gets to stab with his right royal prick\\n'], 'WAYMAR ROYCE': ['WAYMAR ROYCE How close did you get\\n'], 'WILL': ['WILL Ive never seen wildlings do a thing like this Ive never seen a thing like this not ever in my life\\n', 'WILL Close as any man would\\n', 'WILL Whatever did it to them could do it to us They even killed the children\\n', 'WILL They were here\\n']}\n"
     ]
    }
   ],
   "source": [
    "#This codeblock helps to read the text file and create dictioanry storing the respectve dialogues of the character.\n",
    "#character is key and their list of dialects is value\n",
    "#it also removes punctuations\n",
    "character_dialogue={}\n",
    "import re\n",
    "#['ARYA', 'BRAN', 'CASSEL', 'CATELYN', 'CERSEI', 'GARED', 'JAIME', 'JON', 'NED', 'ROBB', 'ROBERT', 'ROYCE', 'SANSA', 'SEPTA MORDANE', 'THEON', 'WAYMAR ROYCE', 'WILL']\n",
    "\n",
    "with open(\"C:/Users/HP/Downloads/Python for DS- Project/conv.txt\",\"r\") as file:\n",
    "    lines=file.readlines()\n",
    "    for character in unique_character:\n",
    "        print(\"______________________________________\")\n",
    "        print(character)\n",
    "        character_dialogue[character]=[] \n",
    "        for line in lines:\n",
    "            punctuations=[\"'\",\".\",\",\",\"!\",\"?\",\":\",\"â€™\",\"â€¦\"]\n",
    "            for punct in punctuations:\n",
    "                line=line.replace(punct,\"\")\n",
    "\n",
    "            if re.search(character ,line): \n",
    "                character_dialogue[character].append(line)\n",
    "            else:\n",
    "                continue\n",
    "        print(character_dialogue[character])\n",
    "\n",
    "print(\"_ _ _ _ _ _ _ _ _ _ _ _ _ _ _ _ _ _\")\n",
    "print(character_dialogue)\n"
   ]
  },
  {
   "cell_type": "code",
   "execution_count": 4,
   "id": "72088209",
   "metadata": {},
   "outputs": [
    {
     "name": "stdout",
     "output_type": "stream",
     "text": [
      "{'ARYA': ['Jaime', 'Thats', 'the', 'Imp', 'Wheres', 'Arya', 'twin', 'queens', 'brother', 'The', 'Lannister'], 'BRAN': ['White', 'hundreds', 'Is', 'true', 'you', 'will', 'people', 'dead', 'got', 'they', 'Down', 'Please', 'a', 'old', 'Hes', 'road', 'about', 'father', 'he', 'is', 'So', 'king', 'right', 'What', 'said', 'Walkers', 'But', 'way', 'it', 'saw', 'our', 'lying', 'now', 'coming', 'mothers', 'Their', 'Our', 'of', 'Where', 'NO', 'deserter', 'was', 'Jon', 'the', 'go', 'I', 'hes'], 'CASSEL': ['down', 'Nights', 'hills', 'a', 'just', 'my', 'Lord', 'belong', 'My', 'is', 'rode', 'Theyve', 'Watch', 'here', 'dont', 'Stark', 'lady', 'from', 'law', 'The', 'They', 'deserter', 'the', 'in', 'captured', 'guardsman'], 'CATELYN': ['Ten', 'too', 'like', 'want', 'you', 'Grace', 'queen', 'Your', 'agree', 'times', 'am', 'such', 'No', 'they', 'outsider', 'come', 'told', 'old', 'my', 'feel', 'but', 'sorry', 'Gods', 'All', 'My', 'is', 'so', 'more', 'grow', 'climbing', 'gods', 'an', 'Ned', 'me', 'here', 'have', 'years', 'still', 'see', 'if', 'promise', 'love', 'young', 'things', 'wonder', 'these', 'many', 'the', 'I', 'and', 'fast', 'to', 'when', 'How', 'Do'], 'CERSEI': ['Hand', 'husband', 'beast', 'Surely', 'dead', 'Go', 'month', 'should', 'told', 'a', 'my', 'little', 'My', 'is', 'been', 'king', 'What', 'for', 'Weve', 'our', 'find', 'be', 'if', 'love', 'of', 'Where', 'You', 'wait', 'riding', 'can', 'Arryn', 'Jon', 'someone', 'the', 'brother'], 'GARED': ['wildlings', 'no', 'were', 'went', 'tracked', 'should', 'they', 'See', 'orders', 'track', 'more', 'head', 'them', 'where', 'trouble', 'Our', 'wall', 'They', 'the', 'us', 'We', 'to', 'wont', 'back'], 'JAIME': ['tell', 'Hand', 'Thats', 'long', 'know', 'honor', 'too', 'Robert', 'around', 'without', 'will', 'died', 'days', 'other', 'would', 'job', 'hunting', 'told', 'a', 'Whatever', 'choose', 'by', 'with', 'he', 'on', 'is', 'king', 'And', 'gates', 'or', 'new', 'short', 'lives', 'But', 'an', 'way', 'him', 'their', 'who', 'both', 'it', 'our', 'be', 'now', 'while', 'heads', 'whores', 'Or', 'Their', 'of', 'do', 'are', 'off', 'boars', 'city', 'can', 'fucking', 'Arryn', 'Jon', 'life', 'someone', 'the', 'go', 'knew', 'and', 'If', 'to', 'his', 'didnt', 'skewered', 'hes'], 'JON': ['think', 'know', 'Fathers', 'too', 'well', 'want', 'you', 'will', 'children', 'direwolf', 'were', 'not', 'Go', 'Now', 'meant', 'a', 'did', 'pups', 'Lord', 'House', 'five', 'Get', 'Father', 'There', 'on', 'is', 'And', 'What', 'for', 'each', 'it', 'sigil', 'have', 'Im', 'them', 'if', 'Stark', 'One', 'hold', 'Bran', 'there', 'of', 'are', 'The', 'mother', 'You', 'They', 'much', 'your', 'the', 'watching', 'Dont', 'to', 'do'], 'NED': ['ten', 'Better', 'A', 'without', 'will', 'not', 'northern', 'should', 'a', 'did', 'There', 'is', 'been', 'And', 'Walkers', 'But', 'an', 'have', 'Bran', 'Kingdoms', 'bury', 'mother', 'marksman', 'your', 'Guarding', 'Andals', 'Seven', 'the', 'passes', 'and', 'which', 'lads', 'do', 'beast', 'swore', 'queen', 'sees', 'children', 'Your', 'practicing', 'forever', 'what', 'thousands', 'quick', 'House', 'Men', 'Get', 'with', 'he', 'yours', 'My', 'saddle', 'Winterfell', 'gods', 'their', 'one', 'Im', 'be', 'train', 'The', 'You', 'They', 'realm', 'rules', 'Its', 'I', 'die', 'wont', 'hes', 'no', 'too', 'Grace', 'you', 'kill', 'Go', 'protector', 'yourselves', 'death', 'Lord', 'about', 'sorry', 'sentence', 'North', 'for', 'all', 'both', 'understand', 'years', 'them', 'coming', 'at', 'Keep', 'Tell', 'Stark', 'of', 'are', 'had', 'He', 'these', 'First', 'in', 'man', 'woods', 'Youre', 'White', 'King', 'Warden', 'direwolf', 'they', 'outsider', 'old', 'Tough', 'Eddard', 'last', 'five', 'Cat', 'on', 'madman', 'sword', 'horses', 'him', 'feed', 'me', 'who', 'swing', 'it', 'boy', 'if', 'Aye', 'why', 'oath', 'lions', 'was', 'Jon', 'winter', 'Arryn', 'to', 'We', 'gone', 'mountain'], 'ROBB': ['no', 'hair', 'Lad', 'bow', 'rest', 'away', 'Go', 'met', 'a', 'Hes', 'than', 'Wall', 'south', 'better', 'he', 'There', 'on', 'is', 'right', 'What', 'prince', 'never', 'blade', 'Relax', 'arm', 'him', 'it', 'prick', 'shave', 'hear', 'Put', 'of', 'get', 'are', 'Tommy', 'own', 'royal', 'your', 'go', 'the', 'and', 'I', 'girl', 'likes', 'his', 'good', 'direwolves', 'back', 'run'], 'ROBERT': ['girls', 'want', 'wanted', 'you', 'minute', 'crack', 'soldier', 'got', 'Youll', 'whatever', 'Ooh', 'what', 'a', 'my', 'fuck', 'but', 'Why', 'hell', 'Cat', 'pay', 'he', 'All', 'been', 'right', 'never', 'seen', 'then', 'loved', 'that', 'Ned', 'crypt', 'him', 'me', 'man', 'here', 'it', 'have', 'years', 'Who', 'be', 'Youve', 'Show', 'remember', 'One', 'at', 'must', 'Take', 'respects', 'through', 'Where', 'You', 'showed', 'Nine', 'havent', 'He', 'had', 'teach', 'much', 'your', '16', 'was', 'skulls', 'the', 'fat', 'I', 'Robb', 'us', 'muscles', 'to', 'and', 'Burned', 'we', 'do', 'fine'], 'ROYCE': ['think', 'want', 'you', 'away', 'will', 'died', 'children', 'dead', 'were', 'not', 'Your', 'they', 'frighten', 'a', 'did', 'Of', 'WAYMAR', 'first', 'south', 'hell', 'Get', 'seem', 'on', 'is', 'What', 'run', 'course', 'how', 'catch', 'behead', 'as', 'horse', 'it', 'dont', 'thing', 'have', 'close', 'ask', 'get', 'say', 'camp', 'You', 'your', 'deserter', 'Its', 'again', 'moved', 'the', 'I', 'us', 'If', 'to', 'wont', 'men', 'good', 'back', 'How', 'Do'], 'SANSA': ['up', 'you', 'shut', 'please', 'Will', 'Would', 'Thank'], 'SEPTA MORDANE': ['Fine', 'MORDANE', 'this', 'as', 'work', 'detail', 'managed', 'love', 'done', 'get', 'always', 'corners', 'youve', 'the', 'I', 'to', 'Well', 'in', 'that'], 'THEON': ['Right', 'girls', 'Give', 'Think', 'you', 'southern', 'not', 'Mountain', 'a', 'orders', 'freak', 'father', 'with', 'he', 'right', 'all', 'it', 'here', 'stab', 'prick', 'take', 'from', 'of', 'lion', 'royal', 'your', 'Its', 'those', 'I', 'his', 'to', 'gets'], 'WAYMAR ROYCE': ['did', 'you', 'close', 'ROYCE', 'get', 'How'], 'WILL': ['wildlings', 'Ive', 'like', 'any', 'children', 'were', 'not', 'would', 'a', 'did', 'my', 'Whatever', 'never', 'killed', 'seen', 'this', 'even', 'as', 'it', 'here', 'thing', 'them', 'could', 'They', 'ever', 'life', 'the', 'us', 'to', 'Close', 'man', 'in', 'do']}\n"
     ]
    }
   ],
   "source": [
    "# REMOVING CHARACTER NAMES FROM THE DIALOGUE\n",
    "for key,value in character_dialogue.items():\n",
    "    character_dialogue[key]=\" \".join(i for i in value)\n",
    "    character_dialogue[key]=character_dialogue[key].split()\n",
    "    for word in character_dialogue[key]:\n",
    "        if word == key:\n",
    "            character_dialogue[key].remove(word)\n",
    "        elif word in key:\n",
    "            character_dialogue[key].remove(word)\n",
    "        elif word != key:\n",
    "            pass\n",
    "        \n",
    "    character_dialogue[key]=list(set(character_dialogue[key]))\n",
    "print(character_dialogue)"
   ]
  },
  {
   "cell_type": "code",
   "execution_count": 5,
   "id": "c7050fcd",
   "metadata": {},
   "outputs": [
    {
     "name": "stdout",
     "output_type": "stream",
     "text": [
      "{'ARYA': ['Jaime', 'Thats', 'the', 'Imp', 'Wheres', 'Arya', 'twin', 'queens', 'brother', 'The', 'Lannister'], 'BRAN': ['White', 'hundreds', 'Is', 'true', 'you', 'will', 'people', 'dead', 'got', 'they', 'Down', 'Please', 'a', 'old', 'Hes', 'road', 'about', 'father', 'he', 'is', 'So', 'king', 'right', 'What', 'said', 'Walkers', 'But', 'way', 'it', 'saw', 'our', 'lying', 'now', 'coming', 'mothers', 'Their', 'Our', 'of', 'Where', 'NO', 'deserter', 'was', 'Jon', 'the', 'go', 'I', 'hes'], 'CASSEL': ['down', 'Nights', 'hills', 'a', 'just', 'my', 'Lord', 'belong', 'My', 'is', 'rode', 'Theyve', 'Watch', 'here', 'dont', 'Stark', 'lady', 'from', 'law', 'The', 'They', 'deserter', 'the', 'in', 'captured', 'guardsman'], 'CATELYN': ['Ten', 'too', 'like', 'want', 'you', 'Grace', 'queen', 'Your', 'agree', 'times', 'am', 'such', 'No', 'they', 'outsider', 'come', 'told', 'old', 'my', 'feel', 'but', 'sorry', 'Gods', 'All', 'My', 'is', 'so', 'more', 'grow', 'climbing', 'gods', 'an', 'Ned', 'me', 'here', 'have', 'years', 'still', 'see', 'if', 'promise', 'love', 'young', 'things', 'wonder', 'these', 'many', 'the', 'I', 'and', 'fast', 'to', 'when', 'How', 'Do'], 'CERSEI': ['Hand', 'husband', 'beast', 'Surely', 'dead', 'Go', 'month', 'should', 'told', 'a', 'my', 'little', 'My', 'is', 'been', 'king', 'What', 'for', 'Weve', 'our', 'find', 'be', 'if', 'love', 'of', 'Where', 'You', 'wait', 'riding', 'can', 'Arryn', 'Jon', 'someone', 'the', 'brother'], 'GARED': ['wildlings', 'no', 'were', 'went', 'tracked', 'should', 'they', 'See', 'orders', 'track', 'more', 'head', 'them', 'where', 'trouble', 'Our', 'wall', 'They', 'the', 'us', 'We', 'to', 'wont', 'back'], 'JAIME': ['tell', 'Hand', 'Thats', 'long', 'know', 'honor', 'too', 'Robert', 'around', 'without', 'will', 'died', 'days', 'other', 'would', 'job', 'hunting', 'told', 'a', 'Whatever', 'choose', 'by', 'with', 'he', 'on', 'is', 'king', 'And', 'gates', 'or', 'new', 'short', 'lives', 'But', 'an', 'way', 'him', 'their', 'who', 'both', 'it', 'our', 'be', 'now', 'while', 'heads', 'whores', 'Or', 'Their', 'of', 'do', 'are', 'off', 'boars', 'city', 'can', 'fucking', 'Arryn', 'Jon', 'life', 'someone', 'the', 'go', 'knew', 'and', 'If', 'to', 'his', 'didnt', 'skewered', 'hes'], 'JON': ['think', 'know', 'Fathers', 'too', 'well', 'want', 'you', 'will', 'children', 'direwolf', 'were', 'not', 'Go', 'Now', 'meant', 'a', 'did', 'pups', 'Lord', 'House', 'five', 'Get', 'Father', 'There', 'on', 'is', 'And', 'What', 'for', 'each', 'it', 'sigil', 'have', 'Im', 'them', 'if', 'Stark', 'One', 'hold', 'Bran', 'there', 'of', 'are', 'The', 'mother', 'You', 'They', 'much', 'your', 'the', 'watching', 'Dont', 'to', 'do'], 'NED': ['ten', 'Better', 'A', 'without', 'will', 'not', 'northern', 'should', 'a', 'did', 'There', 'is', 'been', 'And', 'Walkers', 'But', 'an', 'have', 'Bran', 'Kingdoms', 'bury', 'mother', 'marksman', 'your', 'Guarding', 'Andals', 'Seven', 'the', 'passes', 'and', 'which', 'lads', 'do', 'beast', 'swore', 'queen', 'sees', 'children', 'Your', 'practicing', 'forever', 'what', 'thousands', 'quick', 'House', 'Men', 'Get', 'with', 'he', 'yours', 'My', 'saddle', 'Winterfell', 'gods', 'their', 'one', 'Im', 'be', 'train', 'The', 'You', 'They', 'realm', 'rules', 'Its', 'I', 'die', 'wont', 'hes', 'no', 'too', 'Grace', 'you', 'kill', 'Go', 'protector', 'yourselves', 'death', 'Lord', 'about', 'sorry', 'sentence', 'North', 'for', 'all', 'both', 'understand', 'years', 'them', 'coming', 'at', 'Keep', 'Tell', 'Stark', 'of', 'are', 'had', 'He', 'these', 'First', 'in', 'man', 'woods', 'Youre', 'White', 'King', 'Warden', 'direwolf', 'they', 'outsider', 'old', 'Tough', 'Eddard', 'last', 'five', 'Cat', 'on', 'madman', 'sword', 'horses', 'him', 'feed', 'me', 'who', 'swing', 'it', 'boy', 'if', 'Aye', 'why', 'oath', 'lions', 'was', 'Jon', 'winter', 'Arryn', 'to', 'We', 'gone', 'mountain'], 'ROBB': ['no', 'hair', 'Lad', 'bow', 'rest', 'away', 'Go', 'met', 'a', 'Hes', 'than', 'Wall', 'south', 'better', 'he', 'There', 'on', 'is', 'right', 'What', 'prince', 'never', 'blade', 'Relax', 'arm', 'him', 'it', 'prick', 'shave', 'hear', 'Put', 'of', 'get', 'are', 'Tommy', 'own', 'royal', 'your', 'go', 'the', 'and', 'I', 'girl', 'likes', 'his', 'good', 'direwolves', 'back', 'run'], 'ROBERT': ['girls', 'want', 'wanted', 'you', 'minute', 'crack', 'soldier', 'got', 'Youll', 'whatever', 'Ooh', 'what', 'a', 'my', 'fuck', 'but', 'Why', 'hell', 'Cat', 'pay', 'he', 'All', 'been', 'right', 'never', 'seen', 'then', 'loved', 'that', 'Ned', 'crypt', 'him', 'me', 'man', 'here', 'it', 'have', 'years', 'Who', 'be', 'Youve', 'Show', 'remember', 'One', 'at', 'must', 'Take', 'respects', 'through', 'Where', 'You', 'showed', 'Nine', 'havent', 'He', 'had', 'teach', 'much', 'your', '16', 'was', 'skulls', 'the', 'fat', 'I', 'Robb', 'us', 'muscles', 'to', 'and', 'Burned', 'we', 'do', 'fine'], 'SANSA': ['up', 'you', 'shut', 'please', 'Will', 'Would', 'Thank'], 'SEPTA MORDANE': ['Fine', 'MORDANE', 'this', 'as', 'work', 'detail', 'managed', 'love', 'done', 'get', 'always', 'corners', 'youve', 'the', 'I', 'to', 'Well', 'in', 'that'], 'THEON': ['Right', 'girls', 'Give', 'Think', 'you', 'southern', 'not', 'Mountain', 'a', 'orders', 'freak', 'father', 'with', 'he', 'right', 'all', 'it', 'here', 'stab', 'prick', 'take', 'from', 'of', 'lion', 'royal', 'your', 'Its', 'those', 'I', 'his', 'to', 'gets'], 'WAYMAR ROYCE': ['think', 'want', 'you', 'away', 'will', 'died', 'children', 'dead', 'were', 'not', 'Your', 'they', 'frighten', 'a', 'did', 'Of', 'WAYMAR', 'first', 'south', 'hell', 'Get', 'seem', 'on', 'is', 'What', 'run', 'course', 'how', 'catch', 'behead', 'as', 'horse', 'it', 'dont', 'thing', 'have', 'close', 'ROYCE', 'ask', 'get', 'say', 'camp', 'You', 'your', 'deserter', 'Its', 'again', 'moved', 'the', 'I', 'us', 'If', 'to', 'wont', 'men', 'good', 'back', 'How', 'Do'], 'WILL': ['wildlings', 'Ive', 'like', 'any', 'children', 'were', 'not', 'would', 'a', 'did', 'my', 'Whatever', 'never', 'killed', 'seen', 'this', 'even', 'as', 'it', 'here', 'thing', 'them', 'could', 'They', 'ever', 'life', 'the', 'us', 'to', 'Close', 'man', 'in', 'do']}\n"
     ]
    }
   ],
   "source": [
    "#COMBINING DIALECTS OF WAYMAR ROYCE AND ROYCE(COMBINING THEM AND APPENDING THEM TO WAYMAR ROYCE KEY). \n",
    "#ONCE THE DIALECTS ARE APPENDED REMOVING THE ROYCE KEY\n",
    "keys=list(character_dialogue.keys())\n",
    "for key in keys:\n",
    "    for char in unique_character:\n",
    "        if key != char and key in char:\n",
    "            character_dialogue[char]=character_dialogue[char]+character_dialogue[key]\n",
    "            character_dialogue[char]=list(set(character_dialogue[char]))\n",
    "            del character_dialogue[key]\n",
    "            keys.remove(key)\n",
    "print(character_dialogue)\n"
   ]
  },
  {
   "cell_type": "code",
   "execution_count": 6,
   "id": "71b8c5d9",
   "metadata": {},
   "outputs": [
    {
     "name": "stdout",
     "output_type": "stream",
     "text": [
      "MORDANE\n",
      "WAYMAR\n",
      "ROYCE\n",
      "{'ARYA': ['Jaime', 'Thats', 'the', 'Imp', 'Wheres', 'Arya', 'twin', 'queens', 'brother', 'The', 'Lannister'], 'BRAN': ['White', 'hundreds', 'Is', 'true', 'you', 'will', 'people', 'dead', 'got', 'they', 'Down', 'Please', 'a', 'old', 'Hes', 'road', 'about', 'father', 'he', 'is', 'So', 'king', 'right', 'What', 'said', 'Walkers', 'But', 'way', 'it', 'saw', 'our', 'lying', 'now', 'coming', 'mothers', 'Their', 'Our', 'of', 'Where', 'NO', 'deserter', 'was', 'Jon', 'the', 'go', 'I', 'hes'], 'CASSEL': ['down', 'Nights', 'hills', 'a', 'just', 'my', 'Lord', 'belong', 'My', 'is', 'rode', 'Theyve', 'Watch', 'here', 'dont', 'Stark', 'lady', 'from', 'law', 'The', 'They', 'deserter', 'the', 'in', 'captured', 'guardsman'], 'CATELYN': ['Ten', 'too', 'like', 'want', 'you', 'Grace', 'queen', 'Your', 'agree', 'times', 'am', 'such', 'No', 'they', 'outsider', 'come', 'told', 'old', 'my', 'feel', 'but', 'sorry', 'Gods', 'All', 'My', 'is', 'so', 'more', 'grow', 'climbing', 'gods', 'an', 'Ned', 'me', 'here', 'have', 'years', 'still', 'see', 'if', 'promise', 'love', 'young', 'things', 'wonder', 'these', 'many', 'the', 'I', 'and', 'fast', 'to', 'when', 'How', 'Do'], 'CERSEI': ['Hand', 'husband', 'beast', 'Surely', 'dead', 'Go', 'month', 'should', 'told', 'a', 'my', 'little', 'My', 'is', 'been', 'king', 'What', 'for', 'Weve', 'our', 'find', 'be', 'if', 'love', 'of', 'Where', 'You', 'wait', 'riding', 'can', 'Arryn', 'Jon', 'someone', 'the', 'brother'], 'GARED': ['wildlings', 'no', 'were', 'went', 'tracked', 'should', 'they', 'See', 'orders', 'track', 'more', 'head', 'them', 'where', 'trouble', 'Our', 'wall', 'They', 'the', 'us', 'We', 'to', 'wont', 'back'], 'JAIME': ['tell', 'Hand', 'Thats', 'long', 'know', 'honor', 'too', 'Robert', 'around', 'without', 'will', 'died', 'days', 'other', 'would', 'job', 'hunting', 'told', 'a', 'Whatever', 'choose', 'by', 'with', 'he', 'on', 'is', 'king', 'And', 'gates', 'or', 'new', 'short', 'lives', 'But', 'an', 'way', 'him', 'their', 'who', 'both', 'it', 'our', 'be', 'now', 'while', 'heads', 'whores', 'Or', 'Their', 'of', 'do', 'are', 'off', 'boars', 'city', 'can', 'fucking', 'Arryn', 'Jon', 'life', 'someone', 'the', 'go', 'knew', 'and', 'If', 'to', 'his', 'didnt', 'skewered', 'hes'], 'JON': ['think', 'know', 'Fathers', 'too', 'well', 'want', 'you', 'will', 'children', 'direwolf', 'were', 'not', 'Go', 'Now', 'meant', 'a', 'did', 'pups', 'Lord', 'House', 'five', 'Get', 'Father', 'There', 'on', 'is', 'And', 'What', 'for', 'each', 'it', 'sigil', 'have', 'Im', 'them', 'if', 'Stark', 'One', 'hold', 'Bran', 'there', 'of', 'are', 'The', 'mother', 'You', 'They', 'much', 'your', 'the', 'watching', 'Dont', 'to', 'do'], 'NED': ['ten', 'Better', 'A', 'without', 'will', 'not', 'northern', 'should', 'a', 'did', 'There', 'is', 'been', 'And', 'Walkers', 'But', 'an', 'have', 'Bran', 'Kingdoms', 'bury', 'mother', 'marksman', 'your', 'Guarding', 'Andals', 'Seven', 'the', 'passes', 'and', 'which', 'lads', 'do', 'beast', 'swore', 'queen', 'sees', 'children', 'Your', 'practicing', 'forever', 'what', 'thousands', 'quick', 'House', 'Men', 'Get', 'with', 'he', 'yours', 'My', 'saddle', 'Winterfell', 'gods', 'their', 'one', 'Im', 'be', 'train', 'The', 'You', 'They', 'realm', 'rules', 'Its', 'I', 'die', 'wont', 'hes', 'no', 'too', 'Grace', 'you', 'kill', 'Go', 'protector', 'yourselves', 'death', 'Lord', 'about', 'sorry', 'sentence', 'North', 'for', 'all', 'both', 'understand', 'years', 'them', 'coming', 'at', 'Keep', 'Tell', 'Stark', 'of', 'are', 'had', 'He', 'these', 'First', 'in', 'man', 'woods', 'Youre', 'White', 'King', 'Warden', 'direwolf', 'they', 'outsider', 'old', 'Tough', 'Eddard', 'last', 'five', 'Cat', 'on', 'madman', 'sword', 'horses', 'him', 'feed', 'me', 'who', 'swing', 'it', 'boy', 'if', 'Aye', 'why', 'oath', 'lions', 'was', 'Jon', 'winter', 'Arryn', 'to', 'We', 'gone', 'mountain'], 'ROBB': ['no', 'hair', 'Lad', 'bow', 'rest', 'away', 'Go', 'met', 'a', 'Hes', 'than', 'Wall', 'south', 'better', 'he', 'There', 'on', 'is', 'right', 'What', 'prince', 'never', 'blade', 'Relax', 'arm', 'him', 'it', 'prick', 'shave', 'hear', 'Put', 'of', 'get', 'are', 'Tommy', 'own', 'royal', 'your', 'go', 'the', 'and', 'I', 'girl', 'likes', 'his', 'good', 'direwolves', 'back', 'run'], 'ROBERT': ['girls', 'want', 'wanted', 'you', 'minute', 'crack', 'soldier', 'got', 'Youll', 'whatever', 'Ooh', 'what', 'a', 'my', 'fuck', 'but', 'Why', 'hell', 'Cat', 'pay', 'he', 'All', 'been', 'right', 'never', 'seen', 'then', 'loved', 'that', 'Ned', 'crypt', 'him', 'me', 'man', 'here', 'it', 'have', 'years', 'Who', 'be', 'Youve', 'Show', 'remember', 'One', 'at', 'must', 'Take', 'respects', 'through', 'Where', 'You', 'showed', 'Nine', 'havent', 'He', 'had', 'teach', 'much', 'your', '16', 'was', 'skulls', 'the', 'fat', 'I', 'Robb', 'us', 'muscles', 'to', 'and', 'Burned', 'we', 'do', 'fine'], 'SANSA': ['up', 'you', 'shut', 'please', 'Will', 'Would', 'Thank'], 'SEPTA MORDANE': ['Fine', 'this', 'as', 'work', 'detail', 'managed', 'love', 'done', 'get', 'always', 'corners', 'youve', 'the', 'I', 'to', 'Well', 'in', 'that'], 'THEON': ['Right', 'girls', 'Give', 'Think', 'you', 'southern', 'not', 'Mountain', 'a', 'orders', 'freak', 'father', 'with', 'he', 'right', 'all', 'it', 'here', 'stab', 'prick', 'take', 'from', 'of', 'lion', 'royal', 'your', 'Its', 'those', 'I', 'his', 'to', 'gets'], 'WAYMAR ROYCE': ['think', 'want', 'you', 'away', 'will', 'died', 'children', 'dead', 'were', 'not', 'Your', 'they', 'frighten', 'a', 'did', 'Of', 'first', 'south', 'hell', 'Get', 'seem', 'on', 'is', 'What', 'run', 'course', 'how', 'catch', 'behead', 'as', 'horse', 'it', 'dont', 'thing', 'have', 'close', 'ask', 'get', 'say', 'camp', 'You', 'your', 'deserter', 'Its', 'again', 'moved', 'the', 'I', 'us', 'If', 'to', 'wont', 'men', 'good', 'back', 'How', 'Do'], 'WILL': ['wildlings', 'Ive', 'like', 'any', 'children', 'were', 'not', 'would', 'a', 'did', 'my', 'Whatever', 'never', 'killed', 'seen', 'this', 'even', 'as', 'it', 'here', 'thing', 'them', 'could', 'They', 'ever', 'life', 'the', 'us', 'to', 'Close', 'man', 'in', 'do']}\n",
      "___________________________________________________________________________________________________________________________\n",
      "___________________________________________________________________________________________________________________________\n",
      "{'ARYA': ['arya', 'brother', 'imp', 'jaime', 'lannister', 'queens', 'thats', 'the', 'twin', 'wheres'], 'BRAN': ['a', 'about', 'but', 'coming', 'dead', 'deserter', 'down', 'father', 'go', 'got', 'he', 'hes', 'hundreds', 'i', 'is', 'it', 'jon', 'king', 'lying', 'mothers', 'no', 'now', 'of', 'old', 'our', 'people', 'please', 'right', 'road', 'said', 'saw', 'so', 'the', 'their', 'they', 'true', 'walkers', 'was', 'way', 'what', 'where', 'white', 'will', 'you'], 'CASSEL': ['a', 'belong', 'captured', 'deserter', 'dont', 'down', 'from', 'guardsman', 'here', 'hills', 'in', 'is', 'just', 'lady', 'law', 'lord', 'my', 'nights', 'rode', 'stark', 'the', 'they', 'theyve', 'watch'], 'CATELYN': ['agree', 'all', 'am', 'an', 'and', 'but', 'climbing', 'come', 'do', 'fast', 'feel', 'gods', 'grace', 'grow', 'have', 'here', 'how', 'i', 'if', 'is', 'like', 'love', 'many', 'me', 'more', 'my', 'ned', 'no', 'old', 'outsider', 'promise', 'queen', 'see', 'so', 'sorry', 'still', 'such', 'ten', 'the', 'these', 'they', 'things', 'times', 'to', 'told', 'too', 'want', 'when', 'wonder', 'years', 'you', 'young', 'your'], 'CERSEI': ['a', 'arryn', 'be', 'beast', 'been', 'brother', 'can', 'dead', 'find', 'for', 'go', 'hand', 'husband', 'if', 'is', 'jon', 'king', 'little', 'love', 'month', 'my', 'of', 'our', 'riding', 'should', 'someone', 'surely', 'the', 'told', 'wait', 'weve', 'what', 'where', 'you'], 'GARED': ['back', 'head', 'more', 'no', 'orders', 'our', 'see', 'should', 'the', 'them', 'they', 'to', 'track', 'tracked', 'trouble', 'us', 'wall', 'we', 'went', 'were', 'where', 'wildlings', 'wont'], 'JAIME': ['a', 'an', 'and', 'are', 'around', 'arryn', 'be', 'boars', 'both', 'but', 'by', 'can', 'choose', 'city', 'days', 'didnt', 'died', 'do', 'fucking', 'gates', 'go', 'hand', 'he', 'heads', 'hes', 'him', 'his', 'honor', 'hunting', 'if', 'is', 'it', 'job', 'jon', 'king', 'knew', 'know', 'life', 'lives', 'long', 'new', 'now', 'of', 'off', 'on', 'or', 'other', 'our', 'robert', 'short', 'skewered', 'someone', 'tell', 'thats', 'the', 'their', 'to', 'told', 'too', 'way', 'whatever', 'while', 'who', 'whores', 'will', 'with', 'without', 'would'], 'JON': ['a', 'and', 'are', 'bran', 'children', 'did', 'direwolf', 'do', 'dont', 'each', 'father', 'fathers', 'five', 'for', 'get', 'go', 'have', 'hold', 'house', 'if', 'im', 'is', 'it', 'know', 'lord', 'meant', 'mother', 'much', 'not', 'now', 'of', 'on', 'one', 'pups', 'sigil', 'stark', 'the', 'them', 'there', 'they', 'think', 'to', 'too', 'want', 'watching', 'well', 'were', 'what', 'will', 'you', 'your'], 'NED': ['a', 'about', 'all', 'an', 'and', 'andals', 'are', 'arryn', 'at', 'aye', 'be', 'beast', 'been', 'better', 'both', 'boy', 'bran', 'bury', 'but', 'cat', 'children', 'coming', 'death', 'did', 'die', 'direwolf', 'do', 'eddard', 'feed', 'first', 'five', 'for', 'forever', 'get', 'go', 'gods', 'gone', 'grace', 'guarding', 'had', 'have', 'he', 'hes', 'him', 'horses', 'house', 'i', 'if', 'im', 'in', 'is', 'it', 'its', 'jon', 'keep', 'kill', 'king', 'kingdoms', 'lads', 'last', 'lions', 'lord', 'madman', 'man', 'marksman', 'me', 'men', 'mother', 'mountain', 'my', 'no', 'north', 'northern', 'not', 'oath', 'of', 'old', 'on', 'one', 'outsider', 'passes', 'practicing', 'protector', 'queen', 'quick', 'realm', 'rules', 'saddle', 'sees', 'sentence', 'seven', 'should', 'sorry', 'stark', 'swing', 'sword', 'swore', 'tell', 'ten', 'the', 'their', 'them', 'there', 'these', 'they', 'thousands', 'to', 'too', 'tough', 'train', 'understand', 'walkers', 'warden', 'was', 'we', 'what', 'which', 'white', 'who', 'why', 'will', 'winter', 'winterfell', 'with', 'without', 'wont', 'woods', 'years', 'you', 'your', 'youre', 'yours', 'yourselves'], 'ROBB': ['a', 'and', 'are', 'arm', 'away', 'back', 'better', 'blade', 'bow', 'direwolves', 'get', 'girl', 'go', 'good', 'hair', 'he', 'hear', 'hes', 'him', 'his', 'i', 'is', 'it', 'lad', 'likes', 'met', 'never', 'no', 'of', 'on', 'own', 'prick', 'prince', 'put', 'relax', 'rest', 'right', 'royal', 'run', 'shave', 'south', 'than', 'the', 'there', 'tommy', 'wall', 'what', 'your'], 'ROBERT': ['16', 'a', 'all', 'and', 'at', 'be', 'been', 'burned', 'but', 'cat', 'crack', 'crypt', 'do', 'fat', 'fine', 'fuck', 'girls', 'got', 'had', 'have', 'havent', 'he', 'hell', 'here', 'him', 'i', 'it', 'loved', 'man', 'me', 'minute', 'much', 'muscles', 'must', 'my', 'ned', 'never', 'nine', 'one', 'ooh', 'pay', 'remember', 'respects', 'right', 'robb', 'seen', 'show', 'showed', 'skulls', 'soldier', 'take', 'teach', 'that', 'the', 'then', 'through', 'to', 'us', 'want', 'wanted', 'was', 'we', 'what', 'whatever', 'where', 'who', 'why', 'years', 'you', 'youll', 'your', 'youve'], 'SANSA': ['please', 'shut', 'thank', 'up', 'will', 'would', 'you'], 'SEPTA MORDANE': ['always', 'as', 'corners', 'detail', 'done', 'fine', 'get', 'i', 'in', 'love', 'managed', 'that', 'the', 'this', 'to', 'well', 'work', 'youve'], 'THEON': ['a', 'all', 'father', 'freak', 'from', 'gets', 'girls', 'give', 'he', 'here', 'his', 'i', 'it', 'its', 'lion', 'mountain', 'not', 'of', 'orders', 'prick', 'right', 'royal', 'southern', 'stab', 'take', 'think', 'those', 'to', 'with', 'you', 'your'], 'WAYMAR ROYCE': ['a', 'again', 'as', 'ask', 'away', 'back', 'behead', 'camp', 'catch', 'children', 'close', 'course', 'dead', 'deserter', 'did', 'died', 'do', 'dont', 'first', 'frighten', 'get', 'good', 'have', 'hell', 'horse', 'how', 'i', 'if', 'is', 'it', 'its', 'men', 'moved', 'not', 'of', 'on', 'run', 'say', 'seem', 'south', 'the', 'they', 'thing', 'think', 'to', 'us', 'want', 'were', 'what', 'will', 'wont', 'you', 'your'], 'WILL': ['a', 'any', 'as', 'children', 'close', 'could', 'did', 'do', 'even', 'ever', 'here', 'in', 'it', 'ive', 'killed', 'life', 'like', 'man', 'my', 'never', 'not', 'seen', 'the', 'them', 'they', 'thing', 'this', 'to', 'us', 'were', 'whatever', 'wildlings', 'would']}\n"
     ]
    }
   ],
   "source": [
    "#REMOVING SECOND NAMES FROM THE DIALOGUE\n",
    "for key in keys:\n",
    "    for word in character_dialogue[key]:\n",
    "        if word in key:\n",
    "            print(word)\n",
    "            character_dialogue[key].remove(word)\n",
    "print(character_dialogue)\n",
    "\n",
    "#REMOVING REPETITIVE WORDS BY CONVERTING THE WORDS TO LOWERCASE  \n",
    "for key,value in character_dialogue.items():\n",
    "    character_dialogue[key]=list(x.lower() for x in character_dialogue[key])\n",
    "    character_dialogue[key]=list(set(character_dialogue[key]))\n",
    "    character_dialogue[key].sort()\n",
    "    \n",
    "print(\"___________________________________________________________________________________________________________________________\")\n",
    "print(\"___________________________________________________________________________________________________________________________\")\n",
    "print(character_dialogue)"
   ]
  },
  {
   "cell_type": "code",
   "execution_count": 7,
   "id": "50bd8666",
   "metadata": {},
   "outputs": [
    {
     "name": "stdout",
     "output_type": "stream",
     "text": [
      "Unique words are sucessfully written in the respective character file. Please check the path to find the output file\n"
     ]
    }
   ],
   "source": [
    "#CREATING TEXT FILE WITH UNIQUE WORDS\n",
    "for key,value in character_dialogue.items():\n",
    "    with open(\"C:/Users/HP/Downloads/Python for DS- Project/{}.txt\".format(key),\"w+\") as file:\n",
    "        for i in value:\n",
    "            file.write(i)\n",
    "            file.write(\"\\n\")\n",
    "    file.close()\n",
    "print(\"Unique words are sucessfully written in the respective character file. Please check the path to find the output file\")"
   ]
  },
  {
   "cell_type": "code",
   "execution_count": null,
   "id": "e9dc0ded",
   "metadata": {},
   "outputs": [],
   "source": []
  }
 ],
 "metadata": {
  "kernelspec": {
   "display_name": "Python 3 (ipykernel)",
   "language": "python",
   "name": "python3"
  },
  "language_info": {
   "codemirror_mode": {
    "name": "ipython",
    "version": 3
   },
   "file_extension": ".py",
   "mimetype": "text/x-python",
   "name": "python",
   "nbconvert_exporter": "python",
   "pygments_lexer": "ipython3",
   "version": "3.9.13"
  }
 },
 "nbformat": 4,
 "nbformat_minor": 5
}
